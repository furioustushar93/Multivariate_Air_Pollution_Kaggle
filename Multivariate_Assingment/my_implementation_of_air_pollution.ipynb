{
 "cells": [
  {
   "cell_type": "code",
   "execution_count": 2,
   "metadata": {},
   "outputs": [],
   "source": [
    "import numpy as np\n",
    "import pandas as pd"
   ]
  },
  {
   "cell_type": "code",
   "execution_count": 3,
   "metadata": {},
   "outputs": [],
   "source": [
    "dataset = pd.read_csv(r\"C:\\Users\\tusha\\OneDrive\\Desktop\\Python_Notes\\assignment_datasets\\Regression_Data\\Train.csv\",encoding='utf-8')"
   ]
  },
  {
   "cell_type": "code",
   "execution_count": 4,
   "metadata": {},
   "outputs": [
    {
     "data": {
      "text/html": [
       "<div>\n",
       "<style scoped>\n",
       "    .dataframe tbody tr th:only-of-type {\n",
       "        vertical-align: middle;\n",
       "    }\n",
       "\n",
       "    .dataframe tbody tr th {\n",
       "        vertical-align: top;\n",
       "    }\n",
       "\n",
       "    .dataframe thead th {\n",
       "        text-align: right;\n",
       "    }\n",
       "</style>\n",
       "<table border=\"1\" class=\"dataframe\">\n",
       "  <thead>\n",
       "    <tr style=\"text-align: right;\">\n",
       "      <th></th>\n",
       "      <th>feature_1</th>\n",
       "      <th>feature_2</th>\n",
       "      <th>feature_3</th>\n",
       "      <th>feature_4</th>\n",
       "      <th>feature_5</th>\n",
       "      <th>target</th>\n",
       "    </tr>\n",
       "  </thead>\n",
       "  <tbody>\n",
       "    <tr>\n",
       "      <th>0</th>\n",
       "      <td>0.293416</td>\n",
       "      <td>-0.945599</td>\n",
       "      <td>-0.421105</td>\n",
       "      <td>0.406816</td>\n",
       "      <td>0.525662</td>\n",
       "      <td>-82.154667</td>\n",
       "    </tr>\n",
       "    <tr>\n",
       "      <th>1</th>\n",
       "      <td>-0.836084</td>\n",
       "      <td>-0.189228</td>\n",
       "      <td>-0.776403</td>\n",
       "      <td>-1.053831</td>\n",
       "      <td>0.597997</td>\n",
       "      <td>-48.897960</td>\n",
       "    </tr>\n",
       "    <tr>\n",
       "      <th>2</th>\n",
       "      <td>0.236425</td>\n",
       "      <td>0.132836</td>\n",
       "      <td>-0.147723</td>\n",
       "      <td>0.699854</td>\n",
       "      <td>-0.187364</td>\n",
       "      <td>77.270371</td>\n",
       "    </tr>\n",
       "    <tr>\n",
       "      <th>3</th>\n",
       "      <td>0.175312</td>\n",
       "      <td>0.143194</td>\n",
       "      <td>-0.581111</td>\n",
       "      <td>-0.122107</td>\n",
       "      <td>-1.292168</td>\n",
       "      <td>-2.988581</td>\n",
       "    </tr>\n",
       "    <tr>\n",
       "      <th>4</th>\n",
       "      <td>-1.693011</td>\n",
       "      <td>0.542712</td>\n",
       "      <td>-2.798729</td>\n",
       "      <td>-0.686723</td>\n",
       "      <td>1.244077</td>\n",
       "      <td>-37.596722</td>\n",
       "    </tr>\n",
       "    <tr>\n",
       "      <th>5</th>\n",
       "      <td>-1.055329</td>\n",
       "      <td>-0.874807</td>\n",
       "      <td>0.580753</td>\n",
       "      <td>-0.773541</td>\n",
       "      <td>1.070888</td>\n",
       "      <td>-122.405263</td>\n",
       "    </tr>\n",
       "    <tr>\n",
       "      <th>6</th>\n",
       "      <td>-0.824707</td>\n",
       "      <td>0.499427</td>\n",
       "      <td>1.293281</td>\n",
       "      <td>-0.240671</td>\n",
       "      <td>-0.419136</td>\n",
       "      <td>1.413741</td>\n",
       "    </tr>\n",
       "    <tr>\n",
       "      <th>7</th>\n",
       "      <td>-1.936602</td>\n",
       "      <td>0.583708</td>\n",
       "      <td>-0.521135</td>\n",
       "      <td>-0.631724</td>\n",
       "      <td>-1.030729</td>\n",
       "      <td>-13.306543</td>\n",
       "    </tr>\n",
       "    <tr>\n",
       "      <th>8</th>\n",
       "      <td>0.647431</td>\n",
       "      <td>-0.265401</td>\n",
       "      <td>0.327080</td>\n",
       "      <td>0.457829</td>\n",
       "      <td>-1.757592</td>\n",
       "      <td>-25.754698</td>\n",
       "    </tr>\n",
       "    <tr>\n",
       "      <th>9</th>\n",
       "      <td>-1.133029</td>\n",
       "      <td>-0.839132</td>\n",
       "      <td>-0.547809</td>\n",
       "      <td>0.551768</td>\n",
       "      <td>-0.639173</td>\n",
       "      <td>-57.077754</td>\n",
       "    </tr>\n",
       "  </tbody>\n",
       "</table>\n",
       "</div>"
      ],
      "text/plain": [
       "   feature_1  feature_2  feature_3  feature_4  feature_5      target\n",
       "0   0.293416  -0.945599  -0.421105   0.406816   0.525662  -82.154667\n",
       "1  -0.836084  -0.189228  -0.776403  -1.053831   0.597997  -48.897960\n",
       "2   0.236425   0.132836  -0.147723   0.699854  -0.187364   77.270371\n",
       "3   0.175312   0.143194  -0.581111  -0.122107  -1.292168   -2.988581\n",
       "4  -1.693011   0.542712  -2.798729  -0.686723   1.244077  -37.596722\n",
       "5  -1.055329  -0.874807   0.580753  -0.773541   1.070888 -122.405263\n",
       "6  -0.824707   0.499427   1.293281  -0.240671  -0.419136    1.413741\n",
       "7  -1.936602   0.583708  -0.521135  -0.631724  -1.030729  -13.306543\n",
       "8   0.647431  -0.265401   0.327080   0.457829  -1.757592  -25.754698\n",
       "9  -1.133029  -0.839132  -0.547809   0.551768  -0.639173  -57.077754"
      ]
     },
     "execution_count": 4,
     "metadata": {},
     "output_type": "execute_result"
    }
   ],
   "source": [
    "dataset.head(n=10)"
   ]
  },
  {
   "cell_type": "code",
   "execution_count": 5,
   "metadata": {},
   "outputs": [
    {
     "name": "stdout",
     "output_type": "stream",
     "text": [
      "(1600, 5)\n",
      "(1600, 1)\n",
      "(1600, 5)\n",
      "(1600, 6)\n"
     ]
    },
    {
     "data": {
      "text/plain": [
       "array([[ 1.        ,  0.31139642, -0.92093003, -0.3992678 ,  0.42418404],\n",
       "       [ 1.        , -0.81200658, -0.16864243, -0.75264729, -1.02857829],\n",
       "       [ 1.        ,  0.25471295,  0.15168305, -0.12736142,  0.71564009],\n",
       "       ...,\n",
       "       [ 1.        ,  1.05810433, -0.87478823,  1.74062205, -1.84139222],\n",
       "       [ 1.        , -1.24275748,  0.01453923,  1.8672047 , -1.05496863],\n",
       "       [ 1.        , -1.85426585, -0.8252779 , -1.42486653,  0.50553954]])"
      ]
     },
     "execution_count": 5,
     "metadata": {},
     "output_type": "execute_result"
    }
   ],
   "source": [
    "X = dataset.values[:,:5]\n",
    "Y = dataset.target\n",
    "print(X.shape)\n",
    "Y = Y.values.reshape((-1,1))\n",
    "print(Y.shape)\n",
    "print(X.shape)\n",
    "\n",
    "#Normalize\n",
    "X= (X-X.mean())/X.std()\n",
    "ones = np.ones((X.shape[0],1))\n",
    "X = np.hstack((ones,X))\n",
    "print(X.shape)\n",
    "X[:,:5]"
   ]
  },
  {
   "cell_type": "code",
   "execution_count": 6,
   "metadata": {},
   "outputs": [],
   "source": [
    "def hypothesis(X,theta):\n",
    "    hp=np.dot(X,theta)\n",
    "    \n",
    "    return hp\n",
    "    "
   ]
  },
  {
   "cell_type": "code",
   "execution_count": 7,
   "metadata": {},
   "outputs": [],
   "source": [
    "#cost function calculation\n",
    "def cost_function(X,Y,theta):\n",
    "    m=X.shape[0]\n",
    "    cost=0\n",
    "    for i in range(m):\n",
    "        cost+=(Y[i]-hypothesis(X[i],theta))**2\n",
    "    \n",
    "    return cost/(2*m)#calculate hypothesis\n",
    "\n",
    "#computing gradient\n",
    "def gradient(X,Y,theta):\n",
    "    grad=np.zeros((X.shape[1]))\n",
    "    for j in range(X.shape[1]):\n",
    "        for i in range(X.shape[0]):\n",
    "               grad[j]+=((Y[i]-hypothesis(X[i],theta))*X[i,j])\n",
    "    return grad\n",
    "\n",
    "#optimizing theta with gradient computed\n",
    "def optimization(X,Y,alpha=0.0001,iterations=1000):\n",
    "    \n",
    "    theta=np.ones((X.shape[1]))\n",
    "    \n",
    "    error=[]\n",
    "    for i in range(iterations):\n",
    "        error.append(cost_function(X,Y,theta))\n",
    "        theta=theta+alpha*gradient(X,Y,theta)\n",
    "       \n",
    "       \n",
    "    return theta,error"
   ]
  },
  {
   "cell_type": "code",
   "execution_count": null,
   "metadata": {},
   "outputs": [],
   "source": []
  },
  {
   "cell_type": "code",
   "execution_count": 8,
   "metadata": {},
   "outputs": [],
   "source": [
    "final_theta,error = optimization(X,Y)"
   ]
  },
  {
   "cell_type": "code",
   "execution_count": 23,
   "metadata": {},
   "outputs": [],
   "source": [
    "y_p=hypothesis(X,final_theta)"
   ]
  },
  {
   "cell_type": "code",
   "execution_count": 24,
   "metadata": {},
   "outputs": [
    {
     "data": {
      "text/plain": [
       "array([[ -57.87196311],\n",
       "       [ -89.46019557],\n",
       "       [  53.95305942],\n",
       "       ...,\n",
       "       [-115.65802541],\n",
       "       [ -64.27649688],\n",
       "       [-116.11442895]])"
      ]
     },
     "execution_count": 24,
     "metadata": {},
     "output_type": "execute_result"
    }
   ],
   "source": [
    "y_p.reshape((1600,1))\n"
   ]
  },
  {
   "cell_type": "code",
   "execution_count": 25,
   "metadata": {},
   "outputs": [
    {
     "data": {
      "text/plain": [
       "(1600, 1)"
      ]
     },
     "execution_count": 25,
     "metadata": {},
     "output_type": "execute_result"
    }
   ],
   "source": [
    "Y.shape"
   ]
  },
  {
   "cell_type": "code",
   "execution_count": 26,
   "metadata": {},
   "outputs": [],
   "source": [
    "from sklearn.metrics import r2_score"
   ]
  },
  {
   "cell_type": "code",
   "execution_count": 27,
   "metadata": {},
   "outputs": [
    {
     "data": {
      "text/plain": [
       "0.9660939669975617"
      ]
     },
     "execution_count": 27,
     "metadata": {},
     "output_type": "execute_result"
    }
   ],
   "source": [
    "r2_score(Y,y_p)"
   ]
  },
  {
   "cell_type": "code",
   "execution_count": 28,
   "metadata": {},
   "outputs": [
    {
     "data": {
      "text/plain": [
       "array([ 1.49138699, 29.84297081, 93.16540718,  8.32556432, 45.01071403,\n",
       "        2.53283406])"
      ]
     },
     "execution_count": 28,
     "metadata": {},
     "output_type": "execute_result"
    }
   ],
   "source": [
    "final_theta"
   ]
  },
  {
   "cell_type": "code",
   "execution_count": 29,
   "metadata": {},
   "outputs": [],
   "source": [
    "dataset_Test = pd.read_csv(r\"C:\\Users\\tusha\\OneDrive\\Desktop\\Python_Notes\\assignment_datasets\\Regression_Data\\Test.csv\",encoding='utf-8')"
   ]
  },
  {
   "cell_type": "code",
   "execution_count": 30,
   "metadata": {},
   "outputs": [],
   "source": [
    "import matplotlib.pyplot as plt"
   ]
  },
  {
   "cell_type": "code",
   "execution_count": 31,
   "metadata": {},
   "outputs": [
    {
     "data": {
      "text/plain": [
       "[<matplotlib.lines.Line2D at 0x2b6ab48deb8>]"
      ]
     },
     "execution_count": 31,
     "metadata": {},
     "output_type": "execute_result"
    },
    {
     "data": {
      "image/png": "[encoded data removed]",
      "text/plain": [
       "<matplotlib.figure.Figure at 0x2b6ab3fc860>"
      ]
     },
     "metadata": {
      "needs_background": "light"
     },
     "output_type": "display_data"
    }
   ],
   "source": [
    "plt.plot(error)"
   ]
  },
  {
   "cell_type": "code",
   "execution_count": 35,
   "metadata": {},
   "outputs": [
    {
     "name": "stdout",
     "output_type": "stream",
     "text": [
      "(400, 5)\n",
      "(400, 1)\n",
      "(400, 5)\n",
      "(400, 6)\n"
     ]
    },
    {
     "data": {
      "text/plain": [
       "array([[ 1.        ,  0.22855473, -1.48705913,  0.45960159,  0.90751979],\n",
       "       [ 1.        , -0.92627959, -0.62986836,  0.7661864 ,  1.43672436],\n",
       "       [ 1.        ,  0.73048035, -0.10301315, -0.05991801, -1.80902571],\n",
       "       ...,\n",
       "       [ 1.        , -0.24082017, -1.21798634, -0.15913792,  1.12634773],\n",
       "       [ 1.        ,  0.29114208,  0.7439835 , -0.44531199,  0.76800259],\n",
       "       [ 1.        , -0.00396518, -1.02549769, -1.07377667, -0.45969975]])"
      ]
     },
     "execution_count": 35,
     "metadata": {},
     "output_type": "execute_result"
    }
   ],
   "source": [
    "X_test = dataset_Test.values[:,:5]\n",
    "Y_test = dataset_Test.target\n",
    "print(X_test.shape)\n",
    "Y_test = Y_test.values.reshape((-1,1))\n",
    "print(Y_test.shape)\n",
    "print(X_test.shape)\n",
    "\n",
    "#Normalize\n",
    "X_test= (X_test-X_test.mean())/X_test.std()\n",
    "ones = np.ones((X_test.shape[0],1))\n",
    "X_test = np.hstack((ones,X_test))\n",
    "print(X_test.shape)\n",
    "X_test[:,:5]"
   ]
  },
  {
   "cell_type": "code",
   "execution_count": 36,
   "metadata": {},
   "outputs": [
    {
     "name": "stdout",
     "output_type": "stream",
     "text": [
      "[-8.61211901e+01 -1.63932171e+01 -6.73825235e+01 -2.41167951e+02\n",
      " -2.85431318e+01 -1.77451522e+02 -1.58119696e+02  1.89119294e+01\n",
      " -1.03165185e+01 -6.25797309e+01  1.06234387e+02  2.04405341e+01\n",
      "  1.60816474e+02 -9.51531705e+01  4.70623865e+01  3.26640435e+01\n",
      "  1.31874905e+02  1.09523897e+02  4.48118684e+01  2.84429453e+01\n",
      "  6.57947307e+01  3.48004649e+01  6.44138587e+01 -8.39633318e+01\n",
      "  1.16587991e+02  2.24383411e+01 -3.42695493e+01  1.32633769e+02\n",
      " -4.63787742e+01  1.35691727e+02  4.36492235e+01 -2.57545689e+01\n",
      " -1.65612745e+02 -1.22400336e+02 -9.07463104e+01 -5.05827687e+01\n",
      " -5.41088509e+01  7.23478440e+01 -1.18893380e+02 -1.68016091e+00\n",
      "  1.69444471e+02 -8.46437437e+01 -1.24878212e+02  3.75509020e+01\n",
      " -6.39093528e+01  7.88278962e+01  1.04534869e+02  1.30224563e+02\n",
      " -1.28168346e+01 -9.98241742e+01 -3.67649220e+01  1.86011776e+02\n",
      " -1.70686710e+01  1.45078958e+02 -1.56016423e+02 -1.73617257e+02\n",
      "  3.95524521e+01 -1.57871709e+02 -2.20024746e+01  3.86695653e+01\n",
      " -9.04311132e+01 -3.00358985e+01 -6.07226695e+01  2.90426590e+01\n",
      "  1.19641239e+02 -8.68115785e+01  1.60570407e+02 -4.67520827e+01\n",
      " -1.73622594e+02  2.18489908e+02 -3.51629885e+01  1.10216832e+02\n",
      "  7.91990592e+01 -1.09321609e+02  1.24184293e+02 -6.47737488e+01\n",
      " -1.11791836e+02  5.61140641e+01  2.05858004e+02 -7.70385957e+01\n",
      " -3.55466461e+01 -4.08532298e+01  1.98662303e+01  5.07546046e+01\n",
      "  1.27158467e+02 -3.21126545e+00  1.14528148e+02 -2.93415734e+01\n",
      " -3.96726042e+01 -9.01329511e+01  1.10953333e+02  9.04891626e+01\n",
      "  5.80470273e+01 -9.88629592e+01  1.26594569e+02  1.05528072e+01\n",
      " -9.75429236e+01  5.80797028e+01 -1.76084138e+02 -1.82598591e+01\n",
      "  2.21372181e+01  1.14356311e+01  2.68757365e+01  7.09143906e+00\n",
      " -8.88224519e+01 -5.69343003e+00 -2.20814955e+02  3.10659131e+01\n",
      " -1.17650612e+02  7.65625232e+01  4.28827777e+01  6.33455481e+01\n",
      " -4.32911106e+01 -2.26082427e+01  3.00657328e+02 -4.95968069e+01\n",
      "  1.21588063e+02  3.77913810e+00  8.59897234e+01  1.84482271e+02\n",
      " -4.58066812e+01 -1.53319474e+02 -5.34968033e+00  4.50903780e+01\n",
      "  1.65862382e+01 -1.30518221e+02 -4.20346170e+01  1.32278248e+02\n",
      "  1.13149444e+02  4.40893808e+01  1.68194725e+02 -2.35486483e+01\n",
      "  9.34385075e+01  5.98084684e+00 -1.12126874e+00 -2.59453977e+02\n",
      " -1.77259433e+02  7.47212377e+01 -2.61965470e+01  9.57715317e+01\n",
      "  4.72227617e+01  5.26953515e+01  3.69626625e+01 -9.05436296e+01\n",
      " -1.91898563e+02 -3.98101483e+00 -2.30949525e+01  2.60598928e+00\n",
      " -1.00881366e+02 -7.16457803e+01  1.10089257e+01  4.01052528e+01\n",
      "  1.34967680e+02  2.97679091e+02  8.73268645e+01  8.32669650e-01\n",
      " -2.04443012e+02  1.18456209e+02 -3.98753637e+01 -4.85492555e+00\n",
      " -3.55706247e+00  1.28076251e+02 -6.69285406e+01  1.71575130e+02\n",
      " -6.04338136e+01 -9.19388294e+01  2.70426426e+02 -7.12104031e+01\n",
      " -9.63425348e+01  2.05268855e+02 -2.73045623e+02 -1.00037109e+02\n",
      "  8.71038535e+01  2.22295339e+02  1.40573761e+01 -1.50617890e+02\n",
      " -1.39266551e+01  1.82022036e+02 -1.96719627e+02 -4.88271439e+01\n",
      "  2.09256083e+01 -3.91615064e+01 -1.88292727e+02 -1.44455773e+02\n",
      " -4.28747391e+01 -1.81975324e+02  2.08486103e+02  1.40635137e+02\n",
      " -7.09089103e+01  1.69800931e+02  1.93226998e+01  3.95884972e+01\n",
      "  1.26320704e+01  5.48352847e+00 -5.27726213e+01  1.33969046e+02\n",
      "  6.98292091e+01  3.46027637e+02  2.15646535e+02  1.07904182e+02\n",
      "  2.32849376e+01 -2.52427141e+00  9.09575099e+01 -7.97461307e+01\n",
      "  9.66890598e+01 -1.76691940e+02 -5.22195343e+01 -8.56010713e+01\n",
      "  5.58055128e+01  1.72563833e+02 -3.21260056e+01 -2.17922838e+02\n",
      " -1.64950032e+01  7.20198302e+01  2.24641347e+01 -1.56477528e+01\n",
      " -1.07440971e+02  1.51325844e+02 -1.40049709e+02  3.53512057e+01\n",
      "  2.33442455e+01 -3.17242882e+01  1.85899764e+02  1.71739392e+02\n",
      " -2.79258013e+01  1.56508271e+02 -4.08401852e+01 -3.08735235e+02\n",
      "  1.24108852e+02  1.12969494e+02  4.51489940e+01 -2.16197391e+01\n",
      " -1.75186922e+02  2.61436369e+01 -2.04535812e+02 -6.39078681e+01\n",
      " -1.18606544e+01  8.19928377e+01  2.66896729e+01 -5.12947437e+01\n",
      " -2.66738030e+01  5.09101455e+01  5.53445103e+01  3.11388429e+01\n",
      "  1.29443389e+02  2.74110802e+01  8.01527282e+01 -7.57031763e+01\n",
      " -8.31801030e+01 -1.76923258e+02 -1.65883830e+02 -2.08262749e+02\n",
      " -5.67305488e+00  1.69650648e+02 -2.00962507e+01 -1.74569410e+02\n",
      "  3.02100053e+01  1.40047458e+02 -1.59144893e+01  6.38003798e+01\n",
      "  6.56796660e-02 -1.10244920e+01 -2.58223007e+02 -4.22908274e+01\n",
      "  9.02336988e+01 -9.18037419e+01  4.44587580e+01  1.73066980e+02\n",
      " -1.35451725e+02  6.01847982e+01 -9.79274914e+01  1.04004400e+02\n",
      "  9.17083763e+01 -1.07292820e+02  1.49975978e+02 -1.07342567e+02\n",
      "  1.53716102e+02 -7.60472635e+01 -2.56629743e+02 -4.90508805e+01\n",
      " -9.56858306e+01 -8.95034851e+01  9.23517797e+01  1.54357082e+02\n",
      "  9.09655151e+00  7.55735558e+01 -2.39189096e+01  6.40088945e+01\n",
      "  1.11825347e+01  8.66595599e+01  9.73281348e+01  2.15771116e+02\n",
      " -4.98402838e+01 -7.10780786e+01  2.37474048e+02  1.84390258e+02\n",
      "  2.75689054e+01  1.32651546e+02 -1.73230277e+02 -1.40767028e+02\n",
      " -1.32193414e+02 -9.18155782e+00 -3.04585028e+01  1.61360968e+02\n",
      " -5.26929517e+01  1.60213659e+01 -2.49876399e+01  9.85657544e+01\n",
      "  8.30744051e+00  1.49167205e+02 -5.85219069e+01  2.97277708e+01\n",
      " -7.65644006e+01 -1.68083586e+02  1.63591227e+02  9.92396583e+00\n",
      " -3.51543197e+00 -8.84950079e+01 -5.31493144e+01 -6.83621285e+01\n",
      "  6.40873828e+01  1.28764148e+02 -2.46005815e+01 -1.44544243e+02\n",
      "  1.57252514e+01  9.21464394e+01  7.40971807e+01  1.72957147e+02\n",
      "  1.63726148e+01 -8.58742677e+01  1.53572535e+02 -1.10241011e+02\n",
      " -1.71992641e+02  1.07178385e+02 -7.75232115e+01 -3.25624347e+01\n",
      "  1.15975357e+02 -2.08949717e+02 -5.90007685e+01  6.05114436e+01\n",
      " -1.66090506e+02 -1.09373898e+02 -1.55267026e+02  4.70952076e+01\n",
      "  7.87499930e+01  3.43125456e+01  1.01725775e+01 -2.11321775e+01\n",
      " -4.49785594e+01 -3.10904022e+02  3.83253463e+01  2.66423002e+02\n",
      "  1.23887513e+02 -3.83521241e+01  6.92270481e+01  2.10924054e+02\n",
      " -1.66608822e+01 -1.59620124e+02  1.33378548e+02 -2.55974894e+02\n",
      " -1.62680369e+02 -8.62721560e+01 -2.95734843e+01 -4.57714303e+01\n",
      " -6.07866137e+01 -5.24026271e+01  6.39712417e+01  4.52781107e+01\n",
      "  4.57047579e+01 -1.23693976e+02  4.19342247e+01  1.69691726e+01\n",
      "  8.81874984e+00  2.40005763e+02  1.56907129e+02 -7.47562929e+01\n",
      "  6.09588566e+01 -2.87755995e+01 -1.19096611e+02 -3.95918165e+01\n",
      " -2.30980338e+02 -1.08192574e+02 -2.92096035e+01  2.36204541e+01\n",
      " -2.07067305e+00 -3.38830155e+01 -8.44900009e+01 -6.12658136e+00\n",
      " -1.51833580e+00 -2.30054626e+01  5.54673976e+01  6.35857027e+01\n",
      " -2.18367359e+02 -8.53476510e+01 -1.14323446e+01 -1.28892221e+02\n",
      " -4.66766036e+01 -6.43245777e+01  1.11857629e+02 -1.23371260e+02]\n"
     ]
    }
   ],
   "source": [
    "y_p_test=hypothesis(X_test,final_theta)\n",
    "print(y_p_test)"
   ]
  },
  {
   "cell_type": "code",
   "execution_count": 34,
   "metadata": {},
   "outputs": [
    {
     "data": {
      "text/plain": [
       "0.8735247664869861"
      ]
     },
     "execution_count": 34,
     "metadata": {},
     "output_type": "execute_result"
    }
   ],
   "source": [
    "r2_score(Y_test,y_p_test)"
   ]
  }
 ],
 "metadata": {
  "kernelspec": {
   "display_name": "Python 3",
   "language": "python",
   "name": "python3"
  },
  "language_info": {
   "codemirror_mode": {
    "name": "ipython",
    "version": 3
   },
   "file_extension": ".py",
   "mimetype": "text/x-python",
   "name": "python",
   "nbconvert_exporter": "python",
   "pygments_lexer": "ipython3",
   "version": "3.6.4"
  }
 },
 "nbformat": 4,
 "nbformat_minor": 2
}
